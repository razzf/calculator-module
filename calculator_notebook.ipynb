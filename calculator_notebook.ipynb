{
 "cells": [
  {
   "cell_type": "markdown",
   "metadata": {},
   "source": [
    "# Calculator\n",
    "The calculator module consists of a simple Calculator class that performs basic arithmetic operations and manages memory."
   ]
  },
  {
   "cell_type": "markdown",
   "metadata": {},
   "source": [
    "### Import the module"
   ]
  },
  {
   "cell_type": "code",
   "execution_count": 1,
   "metadata": {},
   "outputs": [],
   "source": [
    "from calculator import Calculator"
   ]
  },
  {
   "cell_type": "markdown",
   "metadata": {},
   "source": [
    "### Class object\n",
    "Instantiate an object from the class `Calculator`:"
   ]
  },
  {
   "cell_type": "code",
   "execution_count": 2,
   "metadata": {},
   "outputs": [
    {
     "name": "stdout",
     "output_type": "stream",
     "text": [
      "<class 'calculator.Calculator'>\n"
     ]
    }
   ],
   "source": [
    "calculator = Calculator()\n",
    "print(type(calculator))"
   ]
  },
  {
   "cell_type": "markdown",
   "metadata": {},
   "source": [
    "The docstring gives a brief overview of the Class, its function, attributes and methods."
   ]
  },
  {
   "cell_type": "code",
   "execution_count": 3,
   "metadata": {},
   "outputs": [
    {
     "name": "stdout",
     "output_type": "stream",
     "text": [
      "Help on class Calculator in module calculator:\n",
      "\n",
      "class Calculator(builtins.object)\n",
      " |  Calculator(memory: float = 0.0, round_digit: int = 10)\n",
      " |\n",
      " |  A simple calculator class to perform basic arithmetic operations and manage memory.\n",
      " |\n",
      " |  This calculator supports the following operations:\n",
      " |  - Addition\n",
      " |  - Subtraction\n",
      " |  - Multiplication\n",
      " |  - Division\n",
      " |  - Taking the n-th root of a number\n",
      " |  - Resetting memory\n",
      " |\n",
      " |  The round() function is used to cope with floating point errors.\n",
      " |\n",
      " |  Attributes:\n",
      " |      memory (float): The current value stored in the calculator's memory.\n",
      " |          Initialized to 0.0.\n",
      " |\n",
      " |      round_digit (int): The number of decimals to use when rounding the value.\n",
      " |          Must be at least 1. Initialized to 10.\n",
      " |\n",
      " |  Methods:\n",
      " |      add(addend: Union[int, float]) -> float:\n",
      " |          Adds the given number to the memory and returns the new memory value.\n",
      " |\n",
      " |      subtract(subtrahend: Union[int, float]) -> float:\n",
      " |          Subtracts the given number from the memory and returns the new memory value.\n",
      " |\n",
      " |      multiply(multiplicand: Union[int, float]) -> float:\n",
      " |          Multiplies the memory by the given number and returns the new memory value.\n",
      " |\n",
      " |      divide(denominator: Union[int, float]) -> float:\n",
      " |          Divides the memory by the given number and returns the new memory value.\n",
      " |          Raises ZeroDivisionError if the denominator is zero.\n",
      " |\n",
      " |      root(n: Union[int, float]) -> float:\n",
      " |          Takes the n-th root of the memory and returns the new memory value.\n",
      " |          Raises ValueError if n is zero.\n",
      " |\n",
      " |      reset() -> float:\n",
      " |          Resets the memory to 0.0 and returns the new memory value.\n",
      " |\n",
      " |  Methods defined here:\n",
      " |\n",
      " |  __init__(self, memory: float = 0.0, round_digit: int = 10)\n",
      " |      Initialize self.  See help(type(self)) for accurate signature.\n",
      " |\n",
      " |  __str__(self)\n",
      " |      Returns a string representation of the calculator's memory.\n",
      " |\n",
      " |      Returns:\n",
      " |          str: The current memory value.\n",
      " |\n",
      " |  add(self, addend: Union[int, float]) -> float\n",
      " |      Performs an addition between the current memory and given addend\n",
      " |      Args:\n",
      " |          addend (Union[int, float]): The number to add to memory.\n",
      " |\n",
      " |      Returns:\n",
      " |          float: The new memory value.\n",
      " |\n",
      " |  divide(self, denominator: Union[int, float]) -> float\n",
      " |      Performs a division between the current memory value and given denominator.\n",
      " |\n",
      " |      Args:\n",
      " |          denominator (Union[int, float]): The number to divide memory by.\n",
      " |\n",
      " |      Returns:\n",
      " |          float: The new memory value.\n",
      " |\n",
      " |      Raises:\n",
      " |          ZeroDivisionError: If the denominator is zero.\n",
      " |\n",
      " |  multiply(self, multiplicand: Union[int, float]) -> float\n",
      " |      Performs a multiplication between the current memory and given multiplicand.\n",
      " |\n",
      " |      Args:\n",
      " |          multiplicand (Union[int, float]): The number to multiply with memory.\n",
      " |\n",
      " |      Returns:\n",
      " |          float: The new memory value.\n",
      " |\n",
      " |  reset(self) -> float\n",
      " |      Resets the memory to the initial value of 0.\n",
      " |\n",
      " |      Returns:\n",
      " |          float: The new memory value.\n",
      " |\n",
      " |  root(self, n: Union[int, float]) -> float\n",
      " |      Takes the n-th root of the current memory value.\n",
      " |\n",
      " |      Args:\n",
      " |          n (Union[int, float]): The degree of the root.\n",
      " |\n",
      " |      Returns:\n",
      " |          float: The new memory value.\n",
      " |\n",
      " |      Raises:\n",
      " |          ValueError: If roots (n) is zero, or the current memory value is negative\n",
      " |          and roots (n) is even.\n",
      " |\n",
      " |  subtract(self, subtrahend: Union[int, float]) -> float\n",
      " |      Performs a subtraction between the current memory and given subtrahend.\n",
      " |\n",
      " |      Args:\n",
      " |          subtrahend (Union[int, float]): The number to subtract from memory.\n",
      " |\n",
      " |      Returns:\n",
      " |          float: The new memory value.\n",
      " |\n",
      " |  ----------------------------------------------------------------------\n",
      " |  Data descriptors defined here:\n",
      " |\n",
      " |  __dict__\n",
      " |      dictionary for instance variables\n",
      " |\n",
      " |  __weakref__\n",
      " |      list of weak references to the object\n",
      " |\n",
      " |  memory\n",
      " |      Getter for the memory attribute.\n",
      " |\n",
      " |  round_digit\n",
      " |      Getter for the round_digit attribute.\n",
      "\n",
      "None\n"
     ]
    }
   ],
   "source": [
    "print(help(type(calculator)))"
   ]
  },
  {
   "cell_type": "markdown",
   "metadata": {},
   "source": [
    "The initial `memory` value of the calculator is 0, displayed as a floating number:"
   ]
  },
  {
   "cell_type": "code",
   "execution_count": null,
   "metadata": {},
   "outputs": [],
   "source": [
    "print(calculator.memory)"
   ]
  },
  {
   "cell_type": "markdown",
   "metadata": {},
   "source": [
    "The `__str__`method returns a string indicating the object's nature as well as its current memory value:"
   ]
  },
  {
   "cell_type": "code",
   "execution_count": null,
   "metadata": {},
   "outputs": [],
   "source": [
    "print(calculator)"
   ]
  },
  {
   "cell_type": "markdown",
   "metadata": {},
   "source": [
    "### Operations\n",
    "#### Addition\n",
    "The addition of a value is performed with the method `add()`. The value is thereby added to the current `memory` value."
   ]
  },
  {
   "cell_type": "code",
   "execution_count": null,
   "metadata": {},
   "outputs": [],
   "source": [
    "print(calculator.add(8.5))\n",
    "print(calculator.add(-3))"
   ]
  },
  {
   "cell_type": "markdown",
   "metadata": {},
   "source": [
    "Docstrings for each method provide more details, e.g. regarding the arguments and return value type:"
   ]
  },
  {
   "cell_type": "code",
   "execution_count": null,
   "metadata": {},
   "outputs": [],
   "source": [
    "print(help(calculator.add))"
   ]
  },
  {
   "cell_type": "markdown",
   "metadata": {},
   "source": [
    "As described in the docstring, only *integer* or *float* numbers are valid arguments. Entering a *string* will result in a `TypeError`:"
   ]
  },
  {
   "cell_type": "code",
   "execution_count": null,
   "metadata": {},
   "outputs": [],
   "source": [
    "print(calculator.add(\"23\"))    "
   ]
  },
  {
   "cell_type": "markdown",
   "metadata": {},
   "source": [
    "#### Subtraction\n",
    "The subtraction of a value is performed with the method `subtract()`. The value is thereby subtracted from the current `memory` value."
   ]
  },
  {
   "cell_type": "code",
   "execution_count": null,
   "metadata": {},
   "outputs": [],
   "source": [
    "print(calculator.memory)\n",
    "print(calculator.subtract(0.7))\n",
    "print(calculator.subtract(-0.2))"
   ]
  },
  {
   "cell_type": "markdown",
   "metadata": {},
   "source": [
    "#### Multiplication\n",
    "The multiplication of a value is performed with the method `multiply()`. The current `memory` value is thereby multiplied by the stated multiplicand."
   ]
  },
  {
   "cell_type": "code",
   "execution_count": null,
   "metadata": {},
   "outputs": [],
   "source": [
    "print(calculator.multiply(2))"
   ]
  },
  {
   "cell_type": "markdown",
   "metadata": {},
   "source": [
    "#### Division\n",
    "The division of a value is performed with the method `divide()`. The current `memory` value is thereby divided by the stated denominator."
   ]
  },
  {
   "cell_type": "code",
   "execution_count": null,
   "metadata": {},
   "outputs": [],
   "source": [
    "print(calculator.divide(2))\n",
    "print(calculator.divide(0.5))"
   ]
  },
  {
   "cell_type": "markdown",
   "metadata": {},
   "source": [
    "Attempted divisions by zero result in a `ZeroDivisionError`:"
   ]
  },
  {
   "cell_type": "code",
   "execution_count": null,
   "metadata": {},
   "outputs": [],
   "source": [
    "print(calculator.divide(0))"
   ]
  },
  {
   "cell_type": "markdown",
   "metadata": {},
   "source": [
    "#### n-th root\n",
    "Taking the n-th root of the current memory value is performed with the method `root()`."
   ]
  },
  {
   "cell_type": "code",
   "execution_count": null,
   "metadata": {},
   "outputs": [],
   "source": [
    "print(calculator.root(3))"
   ]
  },
  {
   "cell_type": "markdown",
   "metadata": {},
   "source": [
    "Taking the 0th root of any number is invalid and thus results in an `ValueError`:"
   ]
  },
  {
   "cell_type": "code",
   "execution_count": null,
   "metadata": {},
   "outputs": [],
   "source": [
    "print(calculator.root(0))"
   ]
  },
  {
   "cell_type": "markdown",
   "metadata": {},
   "source": [
    "Taking the nth root of a negative number, where `n` is an *even number*, is invalid and thus results in an `ValueError`:"
   ]
  },
  {
   "cell_type": "code",
   "execution_count": null,
   "metadata": {},
   "outputs": [],
   "source": [
    "calculator.memory = -16\n",
    "print(calculator.root(-4))"
   ]
  },
  {
   "cell_type": "markdown",
   "metadata": {},
   "source": [
    "However, when taking the nth root of a *negative number*, where `n` is an *odd number*, the calculation results in a complex number with an imaginary part of zero. Therefore this calculation is valid and it returns the real part of the complex number:\n",
    "\n"
   ]
  },
  {
   "cell_type": "code",
   "execution_count": null,
   "metadata": {},
   "outputs": [],
   "source": [
    "calculator.memory = -8\n",
    "print(calculator.root(-3))"
   ]
  },
  {
   "cell_type": "markdown",
   "metadata": {},
   "source": [
    "#### Resetting the calculator\n",
    "The calculator can be reset to the `memory` value of zero with the method `reset()`."
   ]
  },
  {
   "cell_type": "code",
   "execution_count": null,
   "metadata": {},
   "outputs": [],
   "source": [
    "print(calculator.reset())"
   ]
  },
  {
   "cell_type": "markdown",
   "metadata": {},
   "source": [
    "### Combination of functions\n",
    "Following the principles of functional programming, the above described operations can be combined.\\\n",
    "\\\n",
    "The operations are not performed sequentially but the return value of the *inner operation* serves consequentally as both, current memory value and operational value for the *outer operation*."
   ]
  },
  {
   "cell_type": "code",
   "execution_count": null,
   "metadata": {},
   "outputs": [],
   "source": [
    "calculator.add(5)\n",
    "print(calculator.multiply(10))\n",
    "\n",
    "\n",
    "calculator.reset()\n",
    "print(calculator.multiply(calculator.add(5)))"
   ]
  },
  {
   "cell_type": "markdown",
   "metadata": {},
   "source": [
    "### Data type consistency\n",
    "Throughout the whole procedure, the attribute `memory` remains  of data type `float`. This ensures consistency in regards to return value data types of each operation as well as the correct type hints."
   ]
  },
  {
   "cell_type": "code",
   "execution_count": null,
   "metadata": {},
   "outputs": [],
   "source": [
    "print(calculator.reset())\n",
    "print(type(calculator.memory))\n",
    "\n",
    "print(calculator.add(0.5))\n",
    "print(type(calculator.memory))\n",
    "\n",
    "print(calculator.add(0.5))\n",
    "print(type(calculator.memory))"
   ]
  },
  {
   "cell_type": "markdown",
   "metadata": {},
   "source": [
    "The manual assignment of integer values to `calculator.memory` is still possible, however, they will be returned as float numbers again:"
   ]
  },
  {
   "cell_type": "code",
   "execution_count": null,
   "metadata": {},
   "outputs": [],
   "source": [
    "calculator.memory = int(2)\n",
    "print(calculator.memory)\n",
    "print(type(calculator.memory))"
   ]
  },
  {
   "cell_type": "markdown",
   "metadata": {},
   "source": [
    "The assignment of string values to `calculator.memory` is resulting in a `TypeError`, though:"
   ]
  },
  {
   "cell_type": "code",
   "execution_count": null,
   "metadata": {},
   "outputs": [],
   "source": [
    "calculator.memory = \"2\""
   ]
  },
  {
   "cell_type": "markdown",
   "metadata": {},
   "source": [
    "### Floating point error handling\n",
    "The challenges posed by floating-point arithmetic (e.g. rounding errors, loss of precision, etc.) are kept in check by applying `round()` after each operation in the setter method. This ensures that the calculations are reliable. By default the number of decimals for the `round()` function is 10."
   ]
  },
  {
   "cell_type": "code",
   "execution_count": null,
   "metadata": {},
   "outputs": [],
   "source": [
    "calculator.memory = 0.12345678900001\n",
    "print(calculator.memory)\n",
    "calculator.memory = 0.000123456789\n",
    "print(calculator.memory)"
   ]
  },
  {
   "cell_type": "markdown",
   "metadata": {},
   "source": [
    "The number of decimals for the `round()` function can be changed by assigning a new value to the object variable `round_digit`. \n",
    "Due to the nature of this calculator by dealing solely with `float` numbers, there must be at least one number of decimal to round to. The `float` data type limits the precision to 15-17 significant decimal digits. Therefore the valid value of `round_digit` must be an integer between 1 and 15."
   ]
  },
  {
   "cell_type": "code",
   "execution_count": null,
   "metadata": {},
   "outputs": [],
   "source": [
    "calculator.round_digit = 15\n",
    "print(calculator.round_digit)\n",
    "calculator.memory = 0.12345678900001\n",
    "print(calculator.memory)\n",
    "calculator.memory = 0.000123456789\n",
    "print(calculator.memory)"
   ]
  },
  {
   "cell_type": "markdown",
   "metadata": {},
   "source": [
    "Alternatively, the precision of the floating-point arithmetic can be set initially, while instantiating a new calculator:"
   ]
  },
  {
   "cell_type": "code",
   "execution_count": null,
   "metadata": {},
   "outputs": [],
   "source": [
    "calculator_v2 = Calculator(round_digit = 3)\n",
    "print(calculator_v2.round_digit)\n",
    "calculator_v2.memory = 0.12345678900001\n",
    "print(calculator_v2.memory)"
   ]
  },
  {
   "cell_type": "markdown",
   "metadata": {},
   "source": [
    "Please note that the values assigned to operations (e.g. subtrahend, multiplicand, etc.) are not rounded but only the result of the operation, which is stored in `memory`:"
   ]
  },
  {
   "cell_type": "code",
   "execution_count": null,
   "metadata": {},
   "outputs": [],
   "source": [
    "print(calculator_v2.divide(0.0000001))"
   ]
  }
 ],
 "metadata": {
  "kernelspec": {
   "display_name": "Python 3 (ipykernel)",
   "language": "python",
   "name": "python3"
  },
  "language_info": {
   "codemirror_mode": {
    "name": "ipython",
    "version": 3
   },
   "file_extension": ".py",
   "mimetype": "text/x-python",
   "name": "python",
   "nbconvert_exporter": "python",
   "pygments_lexer": "ipython3",
   "version": "3.12.2"
  }
 },
 "nbformat": 4,
 "nbformat_minor": 4
}
